{
  "nbformat": 4,
  "nbformat_minor": 0,
  "metadata": {
    "colab": {
      "name": "Untitled2.ipynb",
      "provenance": [],
      "authorship_tag": "ABX9TyNE9P4uLt6mFbcCnhRzqD1A",
      "include_colab_link": true
    },
    "kernelspec": {
      "name": "python3",
      "display_name": "Python 3"
    },
    "language_info": {
      "name": "python"
    }
  },
  "cells": [
    {
      "cell_type": "markdown",
      "metadata": {
        "id": "view-in-github",
        "colab_type": "text"
      },
      "source": [
        "<a href=\"https://colab.research.google.com/github/Leonardo-favio/Trabajos/blob/main/Untitled2.ipynb\" target=\"_parent\"><img src=\"https://colab.research.google.com/assets/colab-badge.svg\" alt=\"Open In Colab\"/></a>"
      ]
    },
    {
      "cell_type": "code",
      "execution_count": 3,
      "metadata": {
        "colab": {
          "base_uri": "https://localhost:8080/",
          "height": 148
        },
        "id": "fxKMxm0hReai",
        "outputId": "b47b53f6-de79-4575-e24c-b6fc4f921841"
      },
      "outputs": [
        {
          "output_type": "error",
          "ename": "SyntaxError",
          "evalue": "ignored",
          "traceback": [
            "\u001b[0;36m  File \u001b[0;32m\"<ipython-input-3-bc2ddcc541a5>\"\u001b[0;36m, line \u001b[0;32m5\u001b[0m\n\u001b[0;31m    1 Nivel bajo de agua. Muestra temp/hum y humedad del suelo. Da aviso rellenar tanque\u001b[0m\n\u001b[0m          ^\u001b[0m\n\u001b[0;31mSyntaxError\u001b[0m\u001b[0;31m:\u001b[0m invalid syntax\n"
          ]
        }
      ],
      "source": [
        "\n",
        "//programa para arduino nano de riego automatico\n",
        "\n",
        "/*POSIBLES CASOS\n",
        "\n",
        "1 Nivel bajo de agua. Muestra temp/hum y humedad del suelo. Da aviso rellenar tanque\n",
        "2 Nivel agua OK. Aviso nivel OK\n",
        "      2.1 Humedad suelo OK. Muestra temp/hum y humedad suelo\n",
        "      2.2 Humedad suelo NO OK. Muestra temp/hum y humedad suelo. Comienza riego.\n",
        "*/\n",
        "\n",
        "#include <DHT.h>//Incluyo la librería del sensor DHT11\n",
        "\n",
        "//Configuro pines y variables\n",
        "int SENSOR = 2;//Pin 2 para el valor del sensor DHT11\n",
        "int temp, humedad;//Configuro las variables de temperatura y humedad del DHT11\n",
        "const int nivel = 9; //Pin 9 para medir el nivel de agua\n",
        "const int bomba = 13; //Pin 13 para la bomba\n",
        "const int humedadsuelo = A0; //A0 para la humedad del suelo\n",
        "\n",
        "DHT dht (SENSOR, DHT11);//Configuro el modelo de DHT. Es el DHT11\n",
        "\n",
        "///////////////////////////////parte de humedad suelo y riego\n",
        "\n",
        "void setup()\n",
        "{\n",
        "  Serial.begin(9600);//Arrancamos el puerto serie a 9600\n",
        "  dht.begin();//Arranco el sensor DHT11\n",
        "  \n",
        "  //Configuramos entradas y salidas\n",
        "  pinMode(humedadsuelo, INPUT);//Configuro humedadsuelo como entrada\n",
        "  pinMode(bomba, OUTPUT);//Configuro bomba como salida\n",
        "  pinMode(nivel, INPUT);//Configuro en nivel de agua como entrada\n",
        " }\n",
        "\n",
        "void loop()\n",
        "{\n",
        "  int SensorValue = analogRead(humedadsuelo);//Leo el valor de la humedad y lo meto en SensorValue\n",
        "  int SensorNivel = digitalRead(nivel); //Leo lo que marca el nivel de agua\n",
        "  \n",
        "  //Leo y meto los valores de temperatura y humedad en las variables temp y humedad\n",
        "  humedad = dht.readHumidity();\n",
        "  temp = dht.readTemperature();\n",
        "  \n",
        "  //Imprimo por el puerto serie los valores de temperatura y humedad del DHT11\n",
        "  Serial.print(\"Temperatura: \"); Serial.print(temp);\n",
        "  Serial.print(\"ºC Humedad: \"); Serial.print(humedad); Serial.println(\"%\");\n",
        "  \n",
        "  //Imprimo por el puerto serie el valor de la humedad del suelo\n",
        "  Serial.print(\"Humedad del suelo: \");Serial.print(SensorValue); Serial.println(\"%\");\n",
        "  delay(3000);\n",
        "  \n",
        "if (SensorNivel==0)\n",
        "  { Serial.println(\"Nivel bajo de Agua. Rellenar el tanque\"); \n",
        "  delay(2000);}\n",
        "\n",
        "if (SensorNivel==1) \n",
        "  {\n",
        "   Serial.println(\"Nivel de agua correcto, se puede regar\");\n",
        "   if(SensorValue >= 700) // el valor que considero seco y hay que regar es de 700\n",
        "  {\n",
        "   // Si la tierra está seca, comenzara a regar\n",
        "   // Riega durante 1 segundo y espera a comprobar la humedad otro segundo\n",
        "   Serial.println(\"La tierra está seca, comienza el riego\");\n",
        "   digitalWrite(bomba, HIGH);\n",
        "   delay(2000);\n",
        "   digitalWrite(bomba, LOW);\n",
        "   delay(1000);\n",
        "  }\n",
        "   }  \n",
        "  \n",
        "  //Si la tierra no está seca, no riega y da el valor de la humedad\n",
        "  delay(1000);\n",
        "}"
      ]
    },
    {
      "cell_type": "code",
      "source": [
        ""
      ],
      "metadata": {
        "id": "9LBFEaEMScPc"
      },
      "execution_count": null,
      "outputs": []
    }
  ]
}