{
  "nbformat": 4,
  "nbformat_minor": 0,
  "metadata": {
    "colab": {
      "name": "Untitled1.ipynb",
      "provenance": [],
      "collapsed_sections": [],
      "authorship_tag": "ABX9TyNswmhU86Xblw58mHm+nEfD",
      "include_colab_link": true
    },
    "kernelspec": {
      "name": "python3",
      "display_name": "Python 3"
    },
    "language_info": {
      "name": "python"
    }
  },
  "cells": [
    {
      "cell_type": "markdown",
      "metadata": {
        "id": "view-in-github",
        "colab_type": "text"
      },
      "source": [
        "<a href=\"https://colab.research.google.com/github/Leonardo-favio/Trabajos/blob/main/Untitled1.ipynb\" target=\"_parent\"><img src=\"https://colab.research.google.com/assets/colab-badge.svg\" alt=\"Open In Colab\"/></a>"
      ]
    },
    {
      "cell_type": "code",
      "execution_count": null,
      "metadata": {
        "colab": {
          "base_uri": "https://localhost:8080/"
        },
        "id": "KWh60qD9UVyy",
        "outputId": "1ff3cf51-d7b4-475a-dae9-c4b696ca3675"
      },
      "outputs": [
        {
          "output_type": "stream",
          "name": "stdout",
          "text": [
            "ingrese numero:5\n",
            "es un numero inpar:\n"
          ]
        }
      ],
      "source": [
        "Numero=int(input (\"ingrese numero:\"))\n",
        "\n",
        "if Numero%2 ==0:\n",
        " print(\"es un numero par\" )\n",
        "else:\n",
        " print(\"es un numero inpar:\")"
      ]
    },
    {
      "cell_type": "code",
      "source": [
        "Numero=int(input (\"ingrese numero:\"))\n",
        "\n",
        "if Numero%2 ==0:\n",
        " print(\"es un numero par\" )\n",
        "else:\n",
        " print(\"es un numero inpar:\")"
      ],
      "metadata": {
        "colab": {
          "base_uri": "https://localhost:8080/"
        },
        "id": "1TJ8SCHrWjHT",
        "outputId": "2849a1e9-067e-455c-f609-ad4d8dbd37bb"
      },
      "execution_count": null,
      "outputs": [
        {
          "output_type": "stream",
          "name": "stdout",
          "text": [
            "ingrese numero:6\n",
            "es un numero par\n"
          ]
        }
      ]
    },
    {
      "cell_type": "code",
      "source": [
        "Numero=int(input (\"ingrese numero:\"))\n",
        "\n",
        "if Numero%3 ==0:\n",
        " print(\"es divisible entre 3 papu\" )\n",
        "else:\n",
        " print(\"no es divisible entre 3 querido:\")"
      ],
      "metadata": {
        "colab": {
          "base_uri": "https://localhost:8080/"
        },
        "id": "NwZEVVZOW3zP",
        "outputId": "f147d94a-c0f4-4feb-c32a-a67447a88848"
      },
      "execution_count": null,
      "outputs": [
        {
          "output_type": "stream",
          "name": "stdout",
          "text": [
            "ingrese numero:39\n",
            "es divisible entre 3 papu\n"
          ]
        }
      ]
    },
    {
      "cell_type": "code",
      "source": [
        "Numero=int(input (\"ingrese numero:\"))\n",
        "\n",
        "if Numero%3 ==0:\n",
        " print(\"es divisible entre 3 papu\" )\n",
        "else:\n",
        " print(\"no es divisible entre 3 querido:\")"
      ],
      "metadata": {
        "colab": {
          "base_uri": "https://localhost:8080/"
        },
        "id": "iovnWo6_XO3x",
        "outputId": "fc1b5eb8-bbac-4947-d758-16210c5a2309"
      },
      "execution_count": null,
      "outputs": [
        {
          "output_type": "stream",
          "name": "stdout",
          "text": [
            "ingrese numero:67\n",
            "no es divisible entre 3 querido:\n"
          ]
        }
      ]
    },
    {
      "cell_type": "code",
      "source": [
        "Numero=int(input (\"ingrese numero:\"))\n",
        "\n",
        "if Numero%5 ==0:\n",
        " print(\"es divisible entre 5 erik\" )\n",
        "else:\n",
        " print(\"no es divisible entre 5 querido inteligente:\")"
      ],
      "metadata": {
        "colab": {
          "base_uri": "https://localhost:8080/"
        },
        "id": "0W0ssoafXdAg",
        "outputId": "24c3f212-b8c0-4a50-d5ed-28d6b926019f"
      },
      "execution_count": null,
      "outputs": [
        {
          "output_type": "stream",
          "name": "stdout",
          "text": [
            "ingrese numero:55\n",
            "es divisible entre 5 erik\n"
          ]
        }
      ]
    },
    {
      "cell_type": "code",
      "source": [
        "Numero=int(input (\"ingrese numero:\"))\n",
        "\n",
        "if Numero%5 ==0:\n",
        " print(\"es divisible entre 5 maria\" )\n",
        "else:\n",
        " print(\"no es divisible entre 5 oh rey:\")"
      ],
      "metadata": {
        "colab": {
          "base_uri": "https://localhost:8080/"
        },
        "id": "c0P96T-hYB5n",
        "outputId": "dc597633-b501-499d-ed63-38dca6c9f5fb"
      },
      "execution_count": null,
      "outputs": [
        {
          "output_type": "stream",
          "name": "stdout",
          "text": [
            "ingrese numero:78\n",
            "no es divisible entre 5 oh rey:\n"
          ]
        }
      ]
    },
    {
      "cell_type": "code",
      "source": [
        "Numero=int(input (\"ingrese numero:\"))\n",
        "\n",
        "if Numero%5 ==0 and Numero%3 ==0:\n",
        " print(\"es divisible entre 5 y 3 maria\" )\n",
        "else:\n",
        " print(\"no es divisible entre 5 y 3 oh rey\")"
      ],
      "metadata": {
        "colab": {
          "base_uri": "https://localhost:8080/"
        },
        "id": "cVkA-aoUYSEf",
        "outputId": "5b74bcd2-1516-4e20-f732-aa2ffbf3d8a3"
      },
      "execution_count": null,
      "outputs": [
        {
          "output_type": "stream",
          "name": "stdout",
          "text": [
            "ingrese numero:60\n",
            "es divisible entre 5 y 3 maria\n"
          ]
        }
      ]
    },
    {
      "cell_type": "code",
      "source": [
        "Numero=int(input (\"ingrese numero:\"))\n",
        "\n",
        "if Numero%5 ==0 and Numero%3 ==0:\n",
        " print(\"es divisible entre 5 y 3 maria\" )\n",
        "else:\n",
        " print(\"no es divisible entre 5 y 3 oh rey\")"
      ],
      "metadata": {
        "colab": {
          "base_uri": "https://localhost:8080/"
        },
        "id": "KC2RsLpVYvm9",
        "outputId": "22f03720-05e4-433a-a21e-b594700205a9"
      },
      "execution_count": null,
      "outputs": [
        {
          "output_type": "stream",
          "name": "stdout",
          "text": [
            "ingrese numero:50\n",
            "no es divisible entre 5 y 3 oh rey\n"
          ]
        }
      ]
    },
    {
      "cell_type": "markdown",
      "source": [
        "Practica de divisores de 3 y, o 5"
      ],
      "metadata": {
        "id": "WuAIDwYzc2mt"
      }
    },
    {
      "cell_type": "code",
      "source": [
        "Numero=int(input (\"ingrese numero:\"))\n",
        "\n",
        "if Numero%5 ==0: \n",
        " if Numero%5==0 and Numero %3==0:  \n",
        "  print(\"es divisible entre 5 y 3 maria\" )\n",
        " else:  \n",
        "  print(\" es divisible entre 5 oh rey\")\n",
        "elif Numero%3==0: \n",
        " print(\"es divisible entre 3\")\n",
        "else: \n",
        " print(\"no es divisible entre 3 o 5\")"
      ],
      "metadata": {
        "colab": {
          "base_uri": "https://localhost:8080/"
        },
        "id": "OSA2tLh8bafn",
        "outputId": "be250795-2f05-4695-bd55-48ea21ae1515"
      },
      "execution_count": null,
      "outputs": [
        {
          "output_type": "stream",
          "name": "stdout",
          "text": [
            "ingrese numero:55\n",
            " es divisible entre 5 oh rey\n"
          ]
        }
      ]
    },
    {
      "cell_type": "code",
      "source": [
        "Numero=int(input (\"ingrese numero:\"))\n",
        "\n",
        "if Numero%5 ==0: \n",
        " if Numero%5==0 and Numero %3==0:  \n",
        "   print(\"es divisible entre 5 y 3 maria\" )\n",
        " else:  \n",
        "  print(\"es divisible entre 5 oh rey\")\n",
        "elif Numero%3 ==0: \n",
        " print(\"es divisible entre 3\")\n",
        "else: \n",
        " print(\"no es divisible entre 3 o 5\")"
      ],
      "metadata": {
        "colab": {
          "base_uri": "https://localhost:8080/"
        },
        "id": "ay61xfgga5rz",
        "outputId": "e6e629af-f51e-4894-9b95-662021ef7c11"
      },
      "execution_count": null,
      "outputs": [
        {
          "output_type": "stream",
          "name": "stdout",
          "text": [
            "ingrese numero:33\n",
            "es divisible entre 3\n"
          ]
        }
      ]
    },
    {
      "cell_type": "code",
      "source": [
        "Numero=int(input (\"ingrese numero:\"))\n",
        "\n",
        "if Numero%5 ==0: \n",
        " if Numero%5==0 and Numero %3==0:  print(\"es divisible entre 5 y 3 maria\" )\n",
        " else:  \n",
        "  print(\" es divisible entre 5  oh rey\")\n",
        "elif Numero%3==0: \n",
        " print(\"es divisible entre 3\")\n",
        "else: \n",
        " print(\"no es divisible entre 3 o 5\")"
      ],
      "metadata": {
        "colab": {
          "base_uri": "https://localhost:8080/"
        },
        "id": "y1ep_hipY_YM",
        "outputId": "0a74f698-798e-4ba7-9796-6f7a8816480d"
      },
      "execution_count": null,
      "outputs": [
        {
          "output_type": "stream",
          "name": "stdout",
          "text": [
            "ingrese numero:60\n",
            "es divisible entre 5 y 3 maria\n"
          ]
        }
      ]
    },
    {
      "cell_type": "code",
      "source": [
        "Numero=int(input (\"ingrese numero:\"))\n",
        "\n",
        "if Numero%5 ==0: \n",
        " if Numero%5==0 and Numero %3==0:  \n",
        "   print(\"es divisible entre 5 y 3 maria\" )\n",
        " else:  \n",
        "   print(\" es divisible entre 5  oh rey\")\n",
        "elif Numero%3==0: \n",
        " print(\"es divisible entre 3\")\n",
        "else: \n",
        " print(\"no es divisible entre 3 o 5\")"
      ],
      "metadata": {
        "colab": {
          "base_uri": "https://localhost:8080/"
        },
        "id": "fV4ljIWecjio",
        "outputId": "a05652e5-8c86-4ea7-f3d1-309fd9c98f65"
      },
      "execution_count": null,
      "outputs": [
        {
          "output_type": "stream",
          "name": "stdout",
          "text": [
            "ingrese numero:1\n",
            "no es divisible entre 3 o 5\n"
          ]
        }
      ]
    },
    {
      "cell_type": "code",
      "source": [
        "X1=int(input (\"ingrese el primer numero:\"))\n",
        "X2=int(input (\"ingrese el segundi numero:\"))\n",
        "X3=int(input (\"ingrese el tercer numero:\"))\n",
        "if X1<X2 and X2<X3:\n",
        " print (\" es creciente:\") \n",
        "else:\n",
        " print (\"no es creciente junito:\")"
      ],
      "metadata": {
        "id": "zOr0HH1KTWLT",
        "outputId": "d7170ef5-f423-4e0f-8ef0-8b0357a83dd1",
        "colab": {
          "base_uri": "https://localhost:8080/"
        }
      },
      "execution_count": 2,
      "outputs": [
        {
          "output_type": "stream",
          "name": "stdout",
          "text": [
            "ingrese el primer numero:1\n",
            "ingrese el segundi numero:6\n",
            "ingrese el tercer numero:9\n",
            " es creciente:\n"
          ]
        }
      ]
    },
    {
      "cell_type": "code",
      "source": [
        "X1=int(input (\"ingrese el primer numero:\"))\n",
        "X2=int(input (\"ingrese el segundi numero:\"))\n",
        "X3=int(input (\"ingrese el tercer numero:\"))\n",
        "if X1<X2 and X2<X3:\n",
        " print (\" es creciente:\") \n",
        "else:\n",
        " print (\"no es creciente junito:\")"
      ],
      "metadata": {
        "id": "yNSnitHlUyem",
        "outputId": "e174d674-944f-4a54-880d-7171b42def85",
        "colab": {
          "base_uri": "https://localhost:8080/"
        }
      },
      "execution_count": 3,
      "outputs": [
        {
          "output_type": "stream",
          "name": "stdout",
          "text": [
            "ingrese el primer numero:5\n",
            "ingrese el segundi numero:6\n",
            "ingrese el tercer numero:1\n",
            "no es creciente junito:\n"
          ]
        }
      ]
    },
    {
      "cell_type": "markdown",
      "source": [
        "\n",
        "d(x,y)=(x1-x2)2 +(y1-y2)2"
      ],
      "metadata": {
        "id": "UdkVfVMgee9V"
      }
    },
    {
      "cell_type": "code",
      "source": [
        "\n",
        "\n",
        "#include <math.h>\n",
        "#include <stdio.h>\n",
        "from math import sqrt\n",
        "\n",
        "x1=int(input (\"ingrese valor de x1:\")) \n",
        "y1=int(input (\"ingrese valor de y1:\")) \n",
        "x2=int(input (\"ingrese valor de x2:\")) \n",
        "y2=int(input (\"ingrese valor de y2:\")) \n",
        "Dist=sqrt(((x1-x2) **2 +(y1-y2) **2)//2)\n",
        "print (\"la distancia es de:\" , Dist)"
      ],
      "metadata": {
        "id": "vy3Jloa7egmB",
        "outputId": "ebe6c1a2-4f17-4a70-8984-25316f91fb1e",
        "colab": {
          "base_uri": "https://localhost:8080/"
        }
      },
      "execution_count": 21,
      "outputs": [
        {
          "output_type": "stream",
          "name": "stdout",
          "text": [
            "ingrese valor de x1:20\n",
            "ingrese valor de y1:20\n",
            "ingrese valor de x2:100\n",
            "ingrese valor de y2:100\n",
            "la distancia es de: 80.0\n"
          ]
        }
      ]
    }
  ]
}